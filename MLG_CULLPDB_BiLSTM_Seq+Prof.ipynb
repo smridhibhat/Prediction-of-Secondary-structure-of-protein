{
  "nbformat": 4,
  "nbformat_minor": 0,
  "metadata": {
    "colab": {
      "name": "MLG-CULLPDB_BiLSTM-Seq+Prof",
      "provenance": []
    },
    "kernelspec": {
      "name": "python3",
      "display_name": "Python 3"
    },
    "language_info": {
      "name": "python"
    },
    "accelerator": "GPU"
  },
  "cells": [
    {
      "cell_type": "markdown",
      "source": [
        "# ML in Genomics \n",
        "## BiLSTM-3 Training with Sequence Plus Protein Profiles\n",
        "### Team Members:\n",
        "    1. Hrishikesh Mahajan\n",
        "    2. Pratik Kamble\n",
        "    3. Smridhi Bhat\n",
        "    4. Yash Shekhadar\n"
      ],
      "metadata": {
        "id": "UqHfhiVMRfDP"
      }
    },
    {
      "cell_type": "code",
      "execution_count": 3,
      "metadata": {
        "id": "0I4uel5IQjwv"
      },
      "outputs": [],
      "source": [
        "# Basic Imports\n",
        "import gzip as gz\n",
        "import pandas as pd\n",
        "import numpy as np\n",
        "import matplotlib.pyplot as plt\n",
        "from random import random\n",
        "import pickle as pkl\n",
        "\n",
        "# Keras Imports \n",
        "from keras.models import Sequential, load_model\n",
        "from keras.layers import LSTM, Bidirectional\n",
        "from keras.layers import Dense\n",
        "from keras.layers import Masking\n",
        "from keras.regularizers import l2\n",
        "from keras.layers import Dropout\n",
        "from keras import optimizers\n",
        "from keras.callbacks import EarlyStopping, ModelCheckpoint"
      ]
    },
    {
      "cell_type": "code",
      "source": [
        "f = gz.GzipFile(\"/content/drive/MyDrive/MLG/CULLPDB-Train.npy.gz\", \"r\")\n",
        "train_raw = np.load(f)\n",
        "train_data = train_raw.reshape((len(train_raw), 700, 57))\n",
        "r = np.r_[0:21,35:56]\n",
        "train_x = train_data[:, :, r]\n",
        "train_y = train_data[:, :, 22:30]"
      ],
      "metadata": {
        "id": "PvlNdn4IRpgZ"
      },
      "execution_count": 2,
      "outputs": []
    },
    {
      "cell_type": "code",
      "source": [
        "train_x.shape"
      ],
      "metadata": {
        "colab": {
          "base_uri": "https://localhost:8080/"
        },
        "id": "GoH_sNIJUy6k",
        "outputId": "a6fc1750-bdbe-4f1c-83af-60f4ad3989f5"
      },
      "execution_count": 3,
      "outputs": [
        {
          "output_type": "execute_result",
          "data": {
            "text/plain": [
              "(5365, 700, 42)"
            ]
          },
          "metadata": {},
          "execution_count": 3
        }
      ]
    },
    {
      "cell_type": "code",
      "source": [
        "#Loading the testing data\n",
        "f = gz.GzipFile(\"/content/drive/MyDrive/MLG/CULLPDB-Test.npy.gz\", \"r\")\n",
        "test_raw = np.load(f)\n",
        "test_data = test_raw.reshape((len(test_raw), 700, 57))\n",
        "r = np.r_[0:21,35:56]\n",
        "test_x = test_data[:, :, r]\n",
        "test_y = test_data[:, :, 22:30]"
      ],
      "metadata": {
        "id": "3i607B6JZqQV"
      },
      "execution_count": 2,
      "outputs": []
    },
    {
      "cell_type": "code",
      "source": [
        "model = Sequential()\n",
        "# Masking to standardize input length\n",
        "model.add(Masking(mask_value=0., input_shape=(700, 42)))\n",
        "model.add(Bidirectional(LSTM(128, return_sequences=True)))\n",
        "model.add(Bidirectional(LSTM(128, return_sequences=True)))\n",
        "model.add(Dense(64, activation='relu'))\n",
        "model.add(Dropout(0.1))\n",
        "model.add(Dense(32, activation='relu'))\n",
        "model.add(Dropout(0.1))\n",
        "model.add(Dense(16, activation='relu'))\n",
        "model.add(Dropout(0.1))\n",
        "model.add(Dense(8, activation='softmax'))\n",
        "model.compile(loss='categorical_crossentropy', optimizer='adam', metrics=['acc',  'mae'])"
      ],
      "metadata": {
        "id": "mQM_Egk1WHql"
      },
      "execution_count": 5,
      "outputs": []
    },
    {
      "cell_type": "code",
      "source": [
        "# Adding checkpoint logic\n",
        "filepath = '/content/drive/MyDrive/MLG/Model-8/Model-8.hdf5'\n",
        "checkpoint = ModelCheckpoint(filepath=filepath, \n",
        "                             monitor='val_loss',\n",
        "                             verbose=1, \n",
        "                             save_best_only=True,\n",
        "                             mode='min')"
      ],
      "metadata": {
        "id": "h8zY6K-hZEWQ"
      },
      "execution_count": 6,
      "outputs": []
    },
    {
      "cell_type": "code",
      "source": [
        "history = model.fit(train_x, train_y, epochs=40, validation_data = (test_x, test_y), batch_size=32,callbacks=[checkpoint])"
      ],
      "metadata": {
        "colab": {
          "base_uri": "https://localhost:8080/"
        },
        "id": "jM68JLXOZnUI",
        "outputId": "376f59b4-245d-4b15-8dfc-3ce7ba4f1e91"
      },
      "execution_count": 7,
      "outputs": [
        {
          "output_type": "stream",
          "name": "stdout",
          "text": [
            "Epoch 1/40\n",
            "168/168 [==============================] - ETA: 0s - loss: 0.4073 - acc: 0.5175 - mae: 0.1516\n",
            "Epoch 1: val_loss improved from inf to 0.26517, saving model to /content/drive/MyDrive/MLG/Model-8/Model-8.hdf5\n",
            "168/168 [==============================] - 41s 140ms/step - loss: 0.4073 - acc: 0.5175 - mae: 0.1516 - val_loss: 0.2652 - val_acc: 0.5931 - val_mae: 0.1307\n",
            "Epoch 2/40\n",
            "168/168 [==============================] - ETA: 0s - loss: 0.3198 - acc: 0.6336 - mae: 0.1213\n",
            "Epoch 2: val_loss improved from 0.26517 to 0.25042, saving model to /content/drive/MyDrive/MLG/Model-8/Model-8.hdf5\n",
            "168/168 [==============================] - 18s 109ms/step - loss: 0.3198 - acc: 0.6336 - mae: 0.1213 - val_loss: 0.2504 - val_acc: 0.6160 - val_mae: 0.1281\n",
            "Epoch 3/40\n",
            "168/168 [==============================] - ETA: 0s - loss: 0.3023 - acc: 0.6535 - mae: 0.1155\n",
            "Epoch 3: val_loss improved from 0.25042 to 0.23913, saving model to /content/drive/MyDrive/MLG/Model-8/Model-8.hdf5\n",
            "168/168 [==============================] - 18s 110ms/step - loss: 0.3023 - acc: 0.6535 - mae: 0.1155 - val_loss: 0.2391 - val_acc: 0.6319 - val_mae: 0.1194\n",
            "Epoch 4/40\n",
            "168/168 [==============================] - ETA: 0s - loss: 0.2871 - acc: 0.6683 - mae: 0.1105\n",
            "Epoch 4: val_loss improved from 0.23913 to 0.22985, saving model to /content/drive/MyDrive/MLG/Model-8/Model-8.hdf5\n",
            "168/168 [==============================] - 18s 109ms/step - loss: 0.2871 - acc: 0.6683 - mae: 0.1105 - val_loss: 0.2298 - val_acc: 0.6447 - val_mae: 0.1134\n",
            "Epoch 5/40\n",
            "168/168 [==============================] - ETA: 0s - loss: 0.2743 - acc: 0.6809 - mae: 0.1062\n",
            "Epoch 5: val_loss improved from 0.22985 to 0.22378, saving model to /content/drive/MyDrive/MLG/Model-8/Model-8.hdf5\n",
            "168/168 [==============================] - 18s 109ms/step - loss: 0.2743 - acc: 0.6809 - mae: 0.1062 - val_loss: 0.2238 - val_acc: 0.6522 - val_mae: 0.1120\n",
            "Epoch 6/40\n",
            "168/168 [==============================] - ETA: 0s - loss: 0.2682 - acc: 0.6871 - mae: 0.1043\n",
            "Epoch 6: val_loss improved from 0.22378 to 0.22111, saving model to /content/drive/MyDrive/MLG/Model-8/Model-8.hdf5\n",
            "168/168 [==============================] - 18s 110ms/step - loss: 0.2682 - acc: 0.6871 - mae: 0.1043 - val_loss: 0.2211 - val_acc: 0.6554 - val_mae: 0.1097\n",
            "Epoch 7/40\n",
            "168/168 [==============================] - ETA: 0s - loss: 0.2632 - acc: 0.6920 - mae: 0.1026\n",
            "Epoch 7: val_loss improved from 0.22111 to 0.21864, saving model to /content/drive/MyDrive/MLG/Model-8/Model-8.hdf5\n",
            "168/168 [==============================] - 18s 109ms/step - loss: 0.2632 - acc: 0.6920 - mae: 0.1026 - val_loss: 0.2186 - val_acc: 0.6603 - val_mae: 0.1096\n",
            "Epoch 8/40\n",
            "168/168 [==============================] - ETA: 0s - loss: 0.2598 - acc: 0.6959 - mae: 0.1014\n",
            "Epoch 8: val_loss improved from 0.21864 to 0.21732, saving model to /content/drive/MyDrive/MLG/Model-8/Model-8.hdf5\n",
            "168/168 [==============================] - 18s 109ms/step - loss: 0.2598 - acc: 0.6959 - mae: 0.1014 - val_loss: 0.2173 - val_acc: 0.6637 - val_mae: 0.1075\n",
            "Epoch 9/40\n",
            "168/168 [==============================] - ETA: 0s - loss: 0.2550 - acc: 0.7008 - mae: 0.0998\n",
            "Epoch 9: val_loss improved from 0.21732 to 0.21512, saving model to /content/drive/MyDrive/MLG/Model-8/Model-8.hdf5\n",
            "168/168 [==============================] - 18s 108ms/step - loss: 0.2550 - acc: 0.7008 - mae: 0.0998 - val_loss: 0.2151 - val_acc: 0.6660 - val_mae: 0.1082\n",
            "Epoch 10/40\n",
            "168/168 [==============================] - ETA: 0s - loss: 0.2514 - acc: 0.7054 - mae: 0.0986\n",
            "Epoch 10: val_loss improved from 0.21512 to 0.21298, saving model to /content/drive/MyDrive/MLG/Model-8/Model-8.hdf5\n",
            "168/168 [==============================] - 18s 108ms/step - loss: 0.2514 - acc: 0.7054 - mae: 0.0986 - val_loss: 0.2130 - val_acc: 0.6716 - val_mae: 0.1056\n",
            "Epoch 11/40\n",
            "168/168 [==============================] - ETA: 0s - loss: 0.2479 - acc: 0.7094 - mae: 0.0974\n",
            "Epoch 11: val_loss did not improve from 0.21298\n",
            "168/168 [==============================] - 18s 105ms/step - loss: 0.2479 - acc: 0.7094 - mae: 0.0974 - val_loss: 0.2131 - val_acc: 0.6707 - val_mae: 0.1044\n",
            "Epoch 12/40\n",
            "168/168 [==============================] - ETA: 0s - loss: 0.2443 - acc: 0.7132 - mae: 0.0961\n",
            "Epoch 12: val_loss did not improve from 0.21298\n",
            "168/168 [==============================] - 17s 104ms/step - loss: 0.2443 - acc: 0.7132 - mae: 0.0961 - val_loss: 0.2135 - val_acc: 0.6735 - val_mae: 0.1030\n",
            "Epoch 13/40\n",
            "168/168 [==============================] - ETA: 0s - loss: 0.2422 - acc: 0.7154 - mae: 0.0954\n",
            "Epoch 13: val_loss improved from 0.21298 to 0.21195, saving model to /content/drive/MyDrive/MLG/Model-8/Model-8.hdf5\n",
            "168/168 [==============================] - 18s 109ms/step - loss: 0.2422 - acc: 0.7154 - mae: 0.0954 - val_loss: 0.2120 - val_acc: 0.6752 - val_mae: 0.1048\n",
            "Epoch 14/40\n",
            "168/168 [==============================] - ETA: 0s - loss: 0.2394 - acc: 0.7191 - mae: 0.0944\n",
            "Epoch 14: val_loss did not improve from 0.21195\n",
            "168/168 [==============================] - 18s 107ms/step - loss: 0.2394 - acc: 0.7191 - mae: 0.0944 - val_loss: 0.2173 - val_acc: 0.6697 - val_mae: 0.1042\n",
            "Epoch 15/40\n",
            "168/168 [==============================] - ETA: 0s - loss: 0.2386 - acc: 0.7204 - mae: 0.0941\n",
            "Epoch 15: val_loss improved from 0.21195 to 0.21098, saving model to /content/drive/MyDrive/MLG/Model-8/Model-8.hdf5\n",
            "168/168 [==============================] - 19s 112ms/step - loss: 0.2386 - acc: 0.7204 - mae: 0.0941 - val_loss: 0.2110 - val_acc: 0.6766 - val_mae: 0.1041\n",
            "Epoch 16/40\n",
            "168/168 [==============================] - ETA: 0s - loss: 0.2339 - acc: 0.7252 - mae: 0.0926\n",
            "Epoch 16: val_loss did not improve from 0.21098\n",
            "168/168 [==============================] - 18s 108ms/step - loss: 0.2339 - acc: 0.7252 - mae: 0.0926 - val_loss: 0.2111 - val_acc: 0.6779 - val_mae: 0.1027\n",
            "Epoch 17/40\n",
            "168/168 [==============================] - ETA: 0s - loss: 0.2304 - acc: 0.7288 - mae: 0.0913\n",
            "Epoch 17: val_loss did not improve from 0.21098\n",
            "168/168 [==============================] - 18s 107ms/step - loss: 0.2304 - acc: 0.7288 - mae: 0.0913 - val_loss: 0.2114 - val_acc: 0.6798 - val_mae: 0.1017\n",
            "Epoch 18/40\n",
            "168/168 [==============================] - ETA: 0s - loss: 0.2272 - acc: 0.7324 - mae: 0.0902\n",
            "Epoch 18: val_loss did not improve from 0.21098\n",
            "168/168 [==============================] - 18s 108ms/step - loss: 0.2272 - acc: 0.7324 - mae: 0.0902 - val_loss: 0.2131 - val_acc: 0.6789 - val_mae: 0.1015\n",
            "Epoch 19/40\n",
            "168/168 [==============================] - ETA: 0s - loss: 0.2252 - acc: 0.7348 - mae: 0.0895\n",
            "Epoch 19: val_loss did not improve from 0.21098\n",
            "168/168 [==============================] - 18s 106ms/step - loss: 0.2252 - acc: 0.7348 - mae: 0.0895 - val_loss: 0.2147 - val_acc: 0.6785 - val_mae: 0.1009\n",
            "Epoch 20/40\n",
            "168/168 [==============================] - ETA: 0s - loss: 0.2216 - acc: 0.7386 - mae: 0.0883\n",
            "Epoch 20: val_loss did not improve from 0.21098\n",
            "168/168 [==============================] - 18s 109ms/step - loss: 0.2216 - acc: 0.7386 - mae: 0.0883 - val_loss: 0.2135 - val_acc: 0.6789 - val_mae: 0.1017\n",
            "Epoch 21/40\n",
            "168/168 [==============================] - ETA: 0s - loss: 0.2188 - acc: 0.7417 - mae: 0.0874\n",
            "Epoch 21: val_loss did not improve from 0.21098\n",
            "168/168 [==============================] - 18s 106ms/step - loss: 0.2188 - acc: 0.7417 - mae: 0.0874 - val_loss: 0.2160 - val_acc: 0.6794 - val_mae: 0.0992\n",
            "Epoch 22/40\n",
            "168/168 [==============================] - ETA: 0s - loss: 0.2159 - acc: 0.7447 - mae: 0.0863\n",
            "Epoch 22: val_loss did not improve from 0.21098\n",
            "168/168 [==============================] - 18s 108ms/step - loss: 0.2159 - acc: 0.7447 - mae: 0.0863 - val_loss: 0.2166 - val_acc: 0.6797 - val_mae: 0.0998\n",
            "Epoch 23/40\n",
            "168/168 [==============================] - ETA: 0s - loss: 0.2133 - acc: 0.7475 - mae: 0.0855\n",
            "Epoch 23: val_loss did not improve from 0.21098\n",
            "168/168 [==============================] - 18s 108ms/step - loss: 0.2133 - acc: 0.7475 - mae: 0.0855 - val_loss: 0.2192 - val_acc: 0.6770 - val_mae: 0.0991\n",
            "Epoch 24/40\n",
            "168/168 [==============================] - ETA: 0s - loss: 0.2102 - acc: 0.7511 - mae: 0.0844\n",
            "Epoch 24: val_loss did not improve from 0.21098\n",
            "168/168 [==============================] - 18s 108ms/step - loss: 0.2102 - acc: 0.7511 - mae: 0.0844 - val_loss: 0.2226 - val_acc: 0.6750 - val_mae: 0.0994\n",
            "Epoch 25/40\n",
            "168/168 [==============================] - ETA: 0s - loss: 0.2065 - acc: 0.7552 - mae: 0.0831\n",
            "Epoch 25: val_loss did not improve from 0.21098\n",
            "168/168 [==============================] - 18s 108ms/step - loss: 0.2065 - acc: 0.7552 - mae: 0.0831 - val_loss: 0.2238 - val_acc: 0.6761 - val_mae: 0.0990\n",
            "Epoch 26/40\n",
            "168/168 [==============================] - ETA: 0s - loss: 0.2036 - acc: 0.7586 - mae: 0.0820\n",
            "Epoch 26: val_loss did not improve from 0.21098\n",
            "168/168 [==============================] - 18s 108ms/step - loss: 0.2036 - acc: 0.7586 - mae: 0.0820 - val_loss: 0.2260 - val_acc: 0.6762 - val_mae: 0.0986\n",
            "Epoch 27/40\n",
            "168/168 [==============================] - ETA: 0s - loss: 0.2009 - acc: 0.7612 - mae: 0.0811\n",
            "Epoch 27: val_loss did not improve from 0.21098\n",
            "168/168 [==============================] - 18s 108ms/step - loss: 0.2009 - acc: 0.7612 - mae: 0.0811 - val_loss: 0.2257 - val_acc: 0.6753 - val_mae: 0.0992\n",
            "Epoch 28/40\n",
            "168/168 [==============================] - ETA: 0s - loss: 0.1968 - acc: 0.7660 - mae: 0.0797\n",
            "Epoch 28: val_loss did not improve from 0.21098\n",
            "168/168 [==============================] - 18s 108ms/step - loss: 0.1968 - acc: 0.7660 - mae: 0.0797 - val_loss: 0.2296 - val_acc: 0.6756 - val_mae: 0.0984\n",
            "Epoch 29/40\n",
            "168/168 [==============================] - ETA: 0s - loss: 0.1936 - acc: 0.7693 - mae: 0.0786\n",
            "Epoch 29: val_loss did not improve from 0.21098\n",
            "168/168 [==============================] - 18s 108ms/step - loss: 0.1936 - acc: 0.7693 - mae: 0.0786 - val_loss: 0.2334 - val_acc: 0.6729 - val_mae: 0.0990\n",
            "Epoch 30/40\n",
            "168/168 [==============================] - ETA: 0s - loss: 0.1909 - acc: 0.7722 - mae: 0.0776\n",
            "Epoch 30: val_loss did not improve from 0.21098\n",
            "168/168 [==============================] - 18s 108ms/step - loss: 0.1909 - acc: 0.7722 - mae: 0.0776 - val_loss: 0.2353 - val_acc: 0.6722 - val_mae: 0.0981\n",
            "Epoch 31/40\n",
            "168/168 [==============================] - ETA: 0s - loss: 0.1878 - acc: 0.7752 - mae: 0.0765\n",
            "Epoch 31: val_loss did not improve from 0.21098\n",
            "168/168 [==============================] - 18s 109ms/step - loss: 0.1878 - acc: 0.7752 - mae: 0.0765 - val_loss: 0.2397 - val_acc: 0.6700 - val_mae: 0.0988\n",
            "Epoch 32/40\n",
            "168/168 [==============================] - ETA: 0s - loss: 0.1839 - acc: 0.7801 - mae: 0.0751\n",
            "Epoch 32: val_loss did not improve from 0.21098\n",
            "168/168 [==============================] - 18s 108ms/step - loss: 0.1839 - acc: 0.7801 - mae: 0.0751 - val_loss: 0.2441 - val_acc: 0.6688 - val_mae: 0.0980\n",
            "Epoch 33/40\n",
            "168/168 [==============================] - ETA: 0s - loss: 0.1812 - acc: 0.7831 - mae: 0.0741\n",
            "Epoch 33: val_loss did not improve from 0.21098\n",
            "168/168 [==============================] - 18s 107ms/step - loss: 0.1812 - acc: 0.7831 - mae: 0.0741 - val_loss: 0.2435 - val_acc: 0.6688 - val_mae: 0.0979\n",
            "Epoch 34/40\n",
            "168/168 [==============================] - ETA: 0s - loss: 0.1782 - acc: 0.7867 - mae: 0.0730\n",
            "Epoch 34: val_loss did not improve from 0.21098\n",
            "168/168 [==============================] - 18s 108ms/step - loss: 0.1782 - acc: 0.7867 - mae: 0.0730 - val_loss: 0.2520 - val_acc: 0.6678 - val_mae: 0.0972\n",
            "Epoch 35/40\n",
            "168/168 [==============================] - ETA: 0s - loss: 0.1768 - acc: 0.7880 - mae: 0.0726\n",
            "Epoch 35: val_loss did not improve from 0.21098\n",
            "168/168 [==============================] - 18s 108ms/step - loss: 0.1768 - acc: 0.7880 - mae: 0.0726 - val_loss: 0.2482 - val_acc: 0.6671 - val_mae: 0.0975\n",
            "Epoch 36/40\n",
            "168/168 [==============================] - ETA: 0s - loss: 0.1723 - acc: 0.7930 - mae: 0.0710\n",
            "Epoch 36: val_loss did not improve from 0.21098\n",
            "168/168 [==============================] - 18s 108ms/step - loss: 0.1723 - acc: 0.7930 - mae: 0.0710 - val_loss: 0.2591 - val_acc: 0.6654 - val_mae: 0.0971\n",
            "Epoch 37/40\n",
            "168/168 [==============================] - ETA: 0s - loss: 0.1692 - acc: 0.7968 - mae: 0.0698\n",
            "Epoch 37: val_loss did not improve from 0.21098\n",
            "168/168 [==============================] - 18s 109ms/step - loss: 0.1692 - acc: 0.7968 - mae: 0.0698 - val_loss: 0.2622 - val_acc: 0.6646 - val_mae: 0.0970\n",
            "Epoch 38/40\n",
            "168/168 [==============================] - ETA: 0s - loss: 0.1666 - acc: 0.7995 - mae: 0.0688\n",
            "Epoch 38: val_loss did not improve from 0.21098\n",
            "168/168 [==============================] - 18s 108ms/step - loss: 0.1666 - acc: 0.7995 - mae: 0.0688 - val_loss: 0.2676 - val_acc: 0.6638 - val_mae: 0.0972\n",
            "Epoch 39/40\n",
            "168/168 [==============================] - ETA: 0s - loss: 0.1630 - acc: 0.8036 - mae: 0.0675\n",
            "Epoch 39: val_loss did not improve from 0.21098\n",
            "168/168 [==============================] - 18s 109ms/step - loss: 0.1630 - acc: 0.8036 - mae: 0.0675 - val_loss: 0.2745 - val_acc: 0.6637 - val_mae: 0.0969\n",
            "Epoch 40/40\n",
            "168/168 [==============================] - ETA: 0s - loss: 0.1608 - acc: 0.8061 - mae: 0.0667\n",
            "Epoch 40: val_loss did not improve from 0.21098\n",
            "168/168 [==============================] - 18s 109ms/step - loss: 0.1608 - acc: 0.8061 - mae: 0.0667 - val_loss: 0.2736 - val_acc: 0.6618 - val_mae: 0.0974\n"
          ]
        }
      ]
    },
    {
      "cell_type": "code",
      "source": [
        "model = load_model(\"/content/drive/MyDrive/MLG/Model-8/Model-8.hdf5\")"
      ],
      "metadata": {
        "id": "2lVdR9-HZ-KK"
      },
      "execution_count": 4,
      "outputs": []
    },
    {
      "cell_type": "code",
      "source": [
        "test_pred = model.predict(np.array([test_x[0]]))"
      ],
      "metadata": {
        "id": "3z-S87Y4wRu8"
      },
      "execution_count": 5,
      "outputs": []
    },
    {
      "cell_type": "code",
      "source": [
        "# Checking for a single prediction\n",
        "plt.figure(figsize=(20,4))\n",
        "plt.title(\"True\")\n",
        "plt.imshow(test_y[0][0:67].T)\n",
        "plt.figure(figsize=(20,4))\n",
        "plt.title(\"Predicted\")\n",
        "plt.imshow(test_pred[0][0:67].T)"
      ],
      "metadata": {
        "colab": {
          "base_uri": "https://localhost:8080/",
          "height": 415
        },
        "id": "ScBqYMJJw76V",
        "outputId": "bb552e0f-61ea-4611-ad19-eacd38d5c0ee"
      },
      "execution_count": 6,
      "outputs": [
        {
          "output_type": "execute_result",
          "data": {
            "text/plain": [
              "<matplotlib.image.AxesImage at 0x7f9b00040cd0>"
            ]
          },
          "metadata": {},
          "execution_count": 6
        },
        {
          "output_type": "display_data",
          "data": {
            "text/plain": [
              "<Figure size 1440x288 with 1 Axes>"
            ],
            "image/png": "[encoded data removed]"
          },
          "metadata": {
            "needs_background": "light"
          }
        },
        {
          "output_type": "display_data",
          "data": {
            "text/plain": [
              "<Figure size 1440x288 with 1 Axes>"
            ],
            "image/png": "[encoded data removed]"
          },
          "metadata": {
            "needs_background": "light"
          }
        }
      ]
    },
    {
      "cell_type": "code",
      "source": [
        ""
      ],
      "metadata": {
        "id": "rJiH4rhUxBe_"
      },
      "execution_count": null,
      "outputs": []
    }
  ]
}