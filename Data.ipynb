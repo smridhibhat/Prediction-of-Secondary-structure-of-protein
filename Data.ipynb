{
  "nbformat": 4,
  "nbformat_minor": 0,
  "metadata": {
    "colab": {
      "name": "Data",
      "provenance": [],
      "collapsed_sections": []
    },
    "kernelspec": {
      "name": "python3",
      "display_name": "Python 3"
    },
    "language_info": {
      "name": "python"
    }
  },
  "cells": [
    {
      "cell_type": "markdown",
      "source": [
        "# ML in Genomics \n",
        "## CullPDB Data Analysis\n",
        "### Team Members:\n",
        "    1. Hrishikesh Mahajan\n",
        "    2. Pratik Kamble\n",
        "    3. Smridhi Bhat\n",
        "    4. Yash Shekhadar"
      ],
      "metadata": {
        "id": "YfTK3_uBNdJX"
      }
    },
    {
      "cell_type": "code",
      "execution_count": 1,
      "metadata": {
        "id": "7JDNrgLVMrWp"
      },
      "outputs": [],
      "source": [
        "import gzip as gz\n",
        "import pandas as pd\n",
        "import numpy as np\n",
        "import matplotlib.pyplot as plt"
      ]
    },
    {
      "cell_type": "code",
      "source": [
        "f = gz.GzipFile(\"/content/drive/MyDrive/MLG/CULLPDB-Train.npy.gz\", \"r\")\n",
        "train_raw = np.load(f)\n",
        "train_data = train_raw.reshape((len(train_raw), 700, 57))\n",
        "train_x = train_data[:, :, 0:21]\n",
        "train_y = train_data[:, :, 22:30]"
      ],
      "metadata": {
        "id": "KycNMHAqOOEX"
      },
      "execution_count": 2,
      "outputs": []
    },
    {
      "cell_type": "code",
      "source": [
        "print(f\"Data Length = {len(train_raw)} \")\n",
        "print(f\"Train X Shape = {train_x.shape}\")\n",
        "print(f\"Train Y Shape = {train_y.shape}\")"
      ],
      "metadata": {
        "colab": {
          "base_uri": "https://localhost:8080/"
        },
        "id": "GGeE16OeRfHX",
        "outputId": "2d2adc68-f8f0-4687-dbbb-bb8796f44ec4"
      },
      "execution_count": 5,
      "outputs": [
        {
          "output_type": "stream",
          "name": "stdout",
          "text": [
            "Data Length = 5365 \n",
            "Train X Shape = (5365, 700, 21)\n",
            "Train Y Shape = (5365, 700, 8)\n"
          ]
        }
      ]
    },
    {
      "cell_type": "code",
      "source": [
        "f = gz.GzipFile(\"/content/drive/MyDrive/MLG/CULLPDB-Test.npy.gz\", \"r\")\n",
        "test_raw = np.load(f)\n",
        "test_data = test_raw.reshape((len(test_raw), 700, 57))\n",
        "test_x = test_data[:, :, 0:21]\n",
        "test_y = test_data[:, :, 22:30]"
      ],
      "metadata": {
        "id": "v2hL8mgxR1KQ"
      },
      "execution_count": 4,
      "outputs": []
    },
    {
      "cell_type": "code",
      "source": [
        "print(f\"Data Length = {len(test_raw)} \")\n",
        "print(f\"Train X Shape = {test_x.shape}\")\n",
        "print(f\"Train Y Shape = {test_y.shape}\")"
      ],
      "metadata": {
        "colab": {
          "base_uri": "https://localhost:8080/"
        },
        "id": "W2Xf0KxTSQ8k",
        "outputId": "9fb18fdc-dd5a-40c2-b762-8867dcda8e1b"
      },
      "execution_count": 6,
      "outputs": [
        {
          "output_type": "stream",
          "name": "stdout",
          "text": [
            "Data Length = 514 \n",
            "Train X Shape = (514, 700, 21)\n",
            "Train Y Shape = (514, 700, 8)\n"
          ]
        }
      ]
    },
    {
      "cell_type": "code",
      "source": [
        "cnts = {\"Loop\":0,\"Beta Bridge\":0,\"Beta Strand\":0,\"3-10 Helix\":0,\"Pi Helix\":0,\"Alpha Helix\":0,\"Bend\":0,\"Beta-Turn\":0}\n",
        "i2e = {0: \"Loop\",1: \"Beta Bridge\",2: \"Beta Strand\",3: \"3-10 Helix\",4: \"Pi Helix\",5: \"Alpha Helix\",6: \"Bend\",7: \"Beta-Turn\"}\n",
        "\n",
        "for i in train_y:\n",
        "    for j in i:\n",
        "        if(np.array_equal(j, [0, 0, 0, 0, 0, 0, 0, 0])):\n",
        "            break\n",
        "        k = i2e[np.argmax(j)]\n",
        "        cnts[k] += 1"
      ],
      "metadata": {
        "id": "O_NQTC0hSm9Q"
      },
      "execution_count": 8,
      "outputs": []
    },
    {
      "cell_type": "code",
      "source": [
        "fig = plt.figure()\n",
        "ax = fig.add_axes([0,0,1,1])\n",
        "stypes = list(cnts.keys())\n",
        "counts = list(cnts.values())\n",
        "ax.bar(stypes,counts)\n",
        "plt.xlabel(\"Secondary Structure Types\")\n",
        "plt.ylabel(\"Count of Class\")\n",
        "plt.title(\"Counts of Secondary Structure Types\")\n",
        "plt.figure(figsize=(27, 27))\n",
        "plt.show()"
      ],
      "metadata": {
        "colab": {
          "base_uri": "https://localhost:8080/",
          "height": 384
        },
        "id": "xWkySZj_VKLl",
        "outputId": "b37acfd9-4413-4301-9d24-efb40bb640b7"
      },
      "execution_count": 20,
      "outputs": [
        {
          "output_type": "display_data",
          "data": {
            "text/plain": [
              "<Figure size 432x288 with 1 Axes>"
            ],
            "image/png": "[encoded data removed]"
          },
          "metadata": {
            "needs_background": "light"
          }
        },
        {
          "output_type": "display_data",
          "data": {
            "text/plain": [
              "<Figure size 1944x1944 with 0 Axes>"
            ]
          },
          "metadata": {}
        }
      ]
    },
    {
      "cell_type": "code",
      "source": [
        "seq_lengths = []\n",
        "for i in train_y:\n",
        "    currlen = 0\n",
        "    for j in i:\n",
        "        if(np.array_equal(j, [0, 0, 0, 0, 0, 0, 0, 0])):\n",
        "            break\n",
        "        currlen+=1\n",
        "    seq_lengths.append(currlen)"
      ],
      "metadata": {
        "id": "Ybx6k3HnVXFt"
      },
      "execution_count": 21,
      "outputs": []
    },
    {
      "cell_type": "code",
      "source": [
        "plt.boxplot(seq_lengths)"
      ],
      "metadata": {
        "colab": {
          "base_uri": "https://localhost:8080/",
          "height": 412
        },
        "id": "5VL_hwE-aIUI",
        "outputId": "cfb311b8-549f-43aa-f8c7-663386cfa8f6"
      },
      "execution_count": 22,
      "outputs": [
        {
          "output_type": "execute_result",
          "data": {
            "text/plain": [
              "{'boxes': [<matplotlib.lines.Line2D at 0x7f7203ee6e90>],\n",
              " 'caps': [<matplotlib.lines.Line2D at 0x7f7203ec2710>,\n",
              "  <matplotlib.lines.Line2D at 0x7f7203eda350>],\n",
              " 'fliers': [<matplotlib.lines.Line2D at 0x7f7203ee6250>],\n",
              " 'means': [],\n",
              " 'medians': [<matplotlib.lines.Line2D at 0x7f7203edaa50>],\n",
              " 'whiskers': [<matplotlib.lines.Line2D at 0x7f7203ec2fd0>,\n",
              "  <matplotlib.lines.Line2D at 0x7f7203ec2290>]}"
            ]
          },
          "metadata": {},
          "execution_count": 22
        },
        {
          "output_type": "display_data",
          "data": {
            "text/plain": [
              "<Figure size 432x288 with 1 Axes>"
            ],
            "image/png": "[encoded data removed]"
          },
          "metadata": {
            "needs_background": "light"
          }
        }
      ]
    }
  ]
}